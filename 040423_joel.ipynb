{
 "cells": [
  {
   "cell_type": "markdown",
   "id": "9117260f-05b3-4104-9600-1815deae22b2",
   "metadata": {},
   "source": [
    "# Create and add data to S3 Bucket "
   ]
  },
  {
   "cell_type": "code",
   "execution_count": null,
   "id": "3d764e17-3827-4c7d-ad38-69434ab594f3",
   "metadata": {},
   "outputs": [],
   "source": [
    "           location string,\n",
    "                title string,\n",
    "                channelTitle string,\n",
    "                categoryid int,\n",
    "                tags string,\n",
    "                view_count string,\n",
    "                likes int,\n",
    "                dislikes int,\t\n",
    "                comment_count int,\n",
    "                comments_disabled boolean,\n",
    "                ratings_disabled boolean,\n",
    "                description_length int,\n",
    "                timepublished string,\n",
    "                trending_month string,\n",
    "                trending_year string)\n",
    "                "
   ]
  },
  {
   "cell_type": "code",
   "execution_count": null,
   "id": "476b790d-4412-48c8-b0ce-e10588dfeac1",
   "metadata": {},
   "outputs": [],
   "source": []
  },
  {
   "cell_type": "code",
   "execution_count": null,
   "id": "35d705be-f901-4d54-bdaa-2762c872ff72",
   "metadata": {},
   "outputs": [
    {
     "name": "stdout",
     "output_type": "stream",
     "text": [
      "    0\n",
      "0   1\n",
      "1   2\n",
      "2  10\n"
     ]
    }
   ],
   "source": [
    "with open('CA_category_id.json') as file:\n",
    "    data = DataFrame([id[\"id\"] for id in json.loads(file.read())[\"items\"]])\n",
    "print(data.head(3))"
   ]
  },
  {
   "cell_type": "code",
   "execution_count": 69,
   "id": "02d46f2e-384b-48af-9cfa-8fb49274d097",
   "metadata": {},
   "outputs": [
    {
     "name": "stdout",
     "output_type": "stream",
     "text": [
      "0    Film & Animation\n",
      "1    Autos & Vehicles\n",
      "2               Music\n",
      "Name: title, dtype: object\n"
     ]
    }
   ],
   "source": [
    "with open('CA_category_id.json') as file:\n",
    "    data2 = DataFrame([snippet[\"snippet\"] for snippet in json.loads(file.read())[\"items\"]])\n",
    "    data3 = data2['title']\n",
    "print(data3.head(3))"
   ]
  },
  {
   "cell_type": "code",
   "execution_count": 70,
   "id": "26384be0-08c3-43ab-9527-76a2a2aa3644",
   "metadata": {
    "tags": []
   },
   "outputs": [
    {
     "data": {
      "text/html": [
       "<div>\n",
       "<style scoped>\n",
       "    .dataframe tbody tr th:only-of-type {\n",
       "        vertical-align: middle;\n",
       "    }\n",
       "\n",
       "    .dataframe tbody tr th {\n",
       "        vertical-align: top;\n",
       "    }\n",
       "\n",
       "    .dataframe thead th {\n",
       "        text-align: right;\n",
       "    }\n",
       "</style>\n",
       "<table border=\"1\" class=\"dataframe\">\n",
       "  <thead>\n",
       "    <tr style=\"text-align: right;\">\n",
       "      <th></th>\n",
       "      <th>id_number</th>\n",
       "      <th>catagory_name</th>\n",
       "    </tr>\n",
       "  </thead>\n",
       "  <tbody>\n",
       "    <tr>\n",
       "      <th>0</th>\n",
       "      <td>1</td>\n",
       "      <td>Film &amp; Animation</td>\n",
       "    </tr>\n",
       "    <tr>\n",
       "      <th>1</th>\n",
       "      <td>2</td>\n",
       "      <td>Autos &amp; Vehicles</td>\n",
       "    </tr>\n",
       "    <tr>\n",
       "      <th>2</th>\n",
       "      <td>10</td>\n",
       "      <td>Music</td>\n",
       "    </tr>\n",
       "  </tbody>\n",
       "</table>\n",
       "</div>"
      ],
      "text/plain": [
       "  id_number     catagory_name\n",
       "0         1  Film & Animation\n",
       "1         2  Autos & Vehicles\n",
       "2        10             Music"
      ]
     },
     "execution_count": 70,
     "metadata": {},
     "output_type": "execute_result"
    }
   ],
   "source": [
    "category_final = pd.concat([data, data3], axis=1, join='inner')\n",
    "category_final.columns =['id_number', 'catagory_name']\n",
    "category_final.head(3)"
   ]
  },
  {
   "cell_type": "markdown",
   "id": "39595967-e345-4b38-bee0-f508f2969700",
   "metadata": {},
   "source": [
    "# Reformat 'tags' 'title' and 'channelTitle' features\n",
    "##### the Tags feature also presented a problem with athena\n",
    "##### One solution i found is to just strip all of the character from the column so that it is an uninterupted string for each instance"
   ]
  },
  {
   "cell_type": "code",
   "execution_count": 136,
   "id": "7e37a12a-cf6e-43c6-ac47-5de6c1a9b94c",
   "metadata": {
    "tags": []
   },
   "outputs": [],
   "source": [
    "def strip(x):\n",
    "    #removes all the formatting so I can search against a \"clean\" list\n",
    "    x = x.str.replace(' ','', regex=True).str.replace('.','', regex=True).str.replace(',','', regex=True).str.replace('|','', regex=True).str.replace(\"'\",'', regex=True).str.replace('-',\"\", regex=True).str.replace(\"(\",'', regex=True).str.replace(')',\"\", regex=True).str.replace('/',\"\", regex=True).str.replace('â„¢',\"\", regex=True).str.replace('â‚¬',\"\", regex=True).str.replace('Ã¢',\"\", regex=True).str.replace('&',\"\", regex=True).str.lower().str.replace('-',\"\", regex=True).str.replace('&',\"\", regex=True)\n",
    "    return x"
   ]
  },
  {
   "cell_type": "code",
   "execution_count": 137,
   "id": "710c4620-df34-4b39-a424-fbb846786bd9",
   "metadata": {
    "tags": []
   },
   "outputs": [],
   "source": [
    "finalcsv['tags'] = strip(finalcsv['tags'])\n",
    "finalcsv['title'] = strip(finalcsv['title'])\n",
    "finalcsv['channelTitle'] = strip(finalcsv['channelTitle'])"
   ]
  },
  {
   "cell_type": "code",
   "execution_count": null,
   "id": "d441fbf6-ce61-4a2a-ad91-dd98ea33225b",
   "metadata": {},
   "outputs": [],
   "source": [
    "### Move the CategoryId column to the end\n",
    "#finalcsv.insert(len(finalcsv.columns)-1, 'categoryId', finalcsv.pop('categoryId'))"
   ]
  },
  {
   "cell_type": "code",
   "execution_count": null,
   "id": "6f7e6fe1-f001-4248-8d48-52c083eb4d96",
   "metadata": {},
   "outputs": [],
   "source": [
    "def strip(x):\n",
    "    #removes all the formatting so I can search against a \"clean\" list\n",
    "    x = x.str.replace(' ','', regex=True).str.replace('.','', regex=True).str.replace(',','', regex=True).str.replace(\"'\",'', regex=True).str.replace('-',\"\", regex=True).str.replace(\"(\",'', regex=True).str.replace(')',\"\", regex=True).str.replace('/',\"\", regex=True).str.replace('â„¢',\"\", regex=True).str.replace('â‚¬',\"\", regex=True).str.replace('Ã¢',\"\", regex=True).str.replace('&',\"\", regex=True).str.lower().str.replace('-',\"\", regex=True).str.replace('&',\"\", regex=True)\n",
    "    return x\n",
    "ca['title'] = strip(ca['title'])\n",
    "gb['title'] = strip(gb['title'])\n",
    "us['title'] = strip(us['title'])\n",
    "ca['channelTitle'] = strip(ca['channelTitle'])\n",
    "gb['channelTitle'] = strip(gb['channelTitle'])\n",
    "us['channelTitle'] = strip(us['channelTitle'])"
   ]
  },
  {
   "cell_type": "markdown",
   "id": "e8ce6c38-6415-47db-8546-4dead15df151",
   "metadata": {},
   "source": [
    "### Create Bucket"
   ]
  },
  {
   "cell_type": "code",
   "execution_count": 38,
   "id": "8d2f1a90-0654-4d62-9b45-c431d4d35fb3",
   "metadata": {
    "tags": []
   },
   "outputs": [],
   "source": [
    "import boto3\n",
    "import sagemaker\n",
    "\n",
    "session = boto3.session.Session()\n",
    "region = session.region_name\n",
    "sagemaker_session = sagemaker.Session()\n",
    "bucket = sagemaker_session.default_bucket()\n",
    "\n",
    "s3 = boto3.Session().client(service_name=\"s3\", region_name=region)"
   ]
  },
  {
   "cell_type": "code",
   "execution_count": 47,
   "id": "c2507e52-4228-4dcf-b9d6-27401e6aebf8",
   "metadata": {
    "tags": []
   },
   "outputs": [
    {
     "name": "stdout",
     "output_type": "stream",
     "text": [
      "us-east-1\n"
     ]
    }
   ],
   "source": [
    "print(region)"
   ]
  },
  {
   "cell_type": "markdown",
   "id": "7665a115-be08-4a70-a2e5-bfaea1dea4e2",
   "metadata": {},
   "source": [
    "### Verify Bucket Creation"
   ]
  },
  {
   "cell_type": "code",
   "execution_count": 39,
   "id": "a1281904-e28f-4fc0-9eaf-a157cae7c70a",
   "metadata": {
    "tags": []
   },
   "outputs": [],
   "source": [
    "%%bash\n",
    "\n",
    "#aws s3 ls s3://${bucket}/"
   ]
  },
  {
   "cell_type": "markdown",
   "id": "1da995d5-9853-4a28-bdba-598a4ba1e5da",
   "metadata": {},
   "source": [
    "### Verify Connection to bucket"
   ]
  },
  {
   "cell_type": "code",
   "execution_count": 40,
   "id": "3821b786-836e-4e05-a739-8ff06008472d",
   "metadata": {
    "tags": []
   },
   "outputs": [
    {
     "name": "stdout",
     "output_type": "stream",
     "text": [
      "Default bucket: sagemaker-us-east-1-418795740224\n"
     ]
    }
   ],
   "source": [
    "print(\"Default bucket: {}\".format(bucket))"
   ]
  },
  {
   "cell_type": "markdown",
   "id": "76d37283-c312-46a9-a550-7e51ceaf9ab0",
   "metadata": {},
   "source": [
    "### *Manually Add data into S3 bucket on AWS site*"
   ]
  },
  {
   "cell_type": "markdown",
   "id": "347f7440-083b-4f9a-8937-1b2a2e0e2ed9",
   "metadata": {},
   "source": [
    "### Make sure the data is in the Bucket"
   ]
  },
  {
   "cell_type": "code",
   "execution_count": 41,
   "id": "94fc79e3-473f-480f-8048-6a594233493b",
   "metadata": {},
   "outputs": [
    {
     "name": "stdout",
     "output_type": "stream",
     "text": [
      "2023-03-09 17:18:57 sagemaker-us-east-1-418795740224\n"
     ]
    }
   ],
   "source": [
    "%%bash\n",
    "\n",
    "#aws s3 ls s3://sagemaker-us-east-1-418795740224/data/\n",
    "aws s3 ls s3://${bucket}/data/"
   ]
  },
  {
   "cell_type": "markdown",
   "id": "8782e484-22b1-425b-b970-70449c7d8ac6",
   "metadata": {},
   "source": [
    "### Store Data path as a String Variable"
   ]
  },
  {
   "cell_type": "code",
   "execution_count": 42,
   "id": "893ab001-1eaf-4ee3-adde-8396cd7f63c7",
   "metadata": {
    "tags": []
   },
   "outputs": [
    {
     "name": "stdout",
     "output_type": "stream",
     "text": [
      "Stored 'datapath' (str)\n"
     ]
    }
   ],
   "source": [
    "datapath = \"s3://sagemaker-us-east-1-418795740224/data/\"\n",
    "%store datapath"
   ]
  },
  {
   "cell_type": "code",
   "execution_count": null,
   "id": "4925aa2a-aed8-4b4f-9af5-68afa9c3f320",
   "metadata": {},
   "outputs": [],
   "source": []
  },
  {
   "cell_type": "code",
   "execution_count": null,
   "id": "334bd590-4732-469a-bf38-c1f2e1860f33",
   "metadata": {},
   "outputs": [],
   "source": []
  },
  {
   "cell_type": "code",
   "execution_count": null,
   "id": "42403d0b-5763-4bbd-84f9-90546d16c342",
   "metadata": {},
   "outputs": [],
   "source": []
  },
  {
   "cell_type": "code",
   "execution_count": null,
   "id": "1966992c-4f96-40c3-8c11-f0aab01041da",
   "metadata": {},
   "outputs": [],
   "source": []
  },
  {
   "cell_type": "code",
   "execution_count": null,
   "id": "7df5fa3d-8d15-4bb9-ad2c-fc018ea68f44",
   "metadata": {},
   "outputs": [],
   "source": []
  },
  {
   "cell_type": "code",
   "execution_count": null,
   "id": "c1856348-1d82-4e94-8d72-a81773fefa36",
   "metadata": {},
   "outputs": [],
   "source": []
  },
  {
   "cell_type": "code",
   "execution_count": null,
   "id": "3a73259f-6b92-438c-9862-a7938c409134",
   "metadata": {},
   "outputs": [],
   "source": [
    "  "
   ]
  },
  {
   "cell_type": "markdown",
   "id": "84c82e10-23f8-4b34-93a9-f66101f56030",
   "metadata": {},
   "source": [
    "# Data Transformation and CSV aggregation"
   ]
  },
  {
   "cell_type": "markdown",
   "id": "778f4349-2c91-4cf9-9e80-002088426d0b",
   "metadata": {},
   "source": [
    "### Load CSV files in s3 into pandas dataframes"
   ]
  },
  {
   "cell_type": "code",
   "execution_count": 43,
   "id": "32561c72-d8d4-4cea-ba16-7598c7fb780d",
   "metadata": {
    "tags": []
   },
   "outputs": [],
   "source": [
    "ca = pd.read_csv(\"s3://sagemaker-us-east-1-418795740224/data/CA_youtube_trending_data.csv\")\n",
    "gb = pd.read_csv(\"s3://sagemaker-us-east-1-418795740224/data/GB_youtube_trending_data.csv\")\n",
    "us = pd.read_csv(\"s3://sagemaker-us-east-1-418795740224/data/US_youtube_trending_data.csv\")\n",
    "\n",
    "us.insert(0, 'Location',  'US')\n",
    "gb.insert(0, 'Location',  'GB')\n",
    "ca.insert(0, 'Location',  'CA')\n",
    "\n",
    "#response = s3_client.get_object(Bucket=AWS_S3_BUCKET, Key=\"files/books.csv\")\n",
    "#status = response.get(\"ResponseMetadata\", {}).get(\"HTTPStatusCode\")\n",
    "#if status == 200:\n",
    "   # print(f\"Successful S3 get_object response. Status - {status}\")\n",
    "   # books_df = pd.read_csv(response.get(\"Body\"))\n",
    "   # print(books_df)\n",
    "#else:\n",
    "   # print(f\"Unsuccessful S3 get_object response. Status - {status}\")"
   ]
  },
  {
   "cell_type": "code",
   "execution_count": 44,
   "id": "1a3aa5fb-af4a-4495-9bb2-30fb2e5834c0",
   "metadata": {},
   "outputs": [],
   "source": [
    "us.insert(0, 'Location',  'US')\n",
    "gb.insert(0, 'Location',  'GB')\n",
    "ca.insert(0, 'Location',  'CA')"
   ]
  },
  {
   "cell_type": "code",
   "execution_count": null,
   "id": "6c2dc4d4-c355-4d15-a576-5f493a7248ec",
   "metadata": {},
   "outputs": [],
   "source": []
  },
  {
   "cell_type": "code",
   "execution_count": null,
   "id": "cd228f91-66c5-4091-9945-f39f87e1f287",
   "metadata": {},
   "outputs": [],
   "source": []
  },
  {
   "cell_type": "code",
   "execution_count": null,
   "id": "44c224ff-bfa9-4d75-88ea-54aaebc51b2c",
   "metadata": {},
   "outputs": [],
   "source": []
  },
  {
   "cell_type": "code",
   "execution_count": null,
   "id": "da6b7a2f-c1dd-4da1-991a-4c5a53ab0a88",
   "metadata": {},
   "outputs": [],
   "source": []
  },
  {
   "cell_type": "markdown",
   "id": "afb635f0-c15f-4cbc-89e9-2681ff8a77e0",
   "metadata": {},
   "source": [
    "# Create Athena Databae"
   ]
  },
  {
   "cell_type": "markdown",
   "id": "54b8aaaf-6346-4346-8944-51586d7eae85",
   "metadata": {},
   "source": [
    "### Dependencies"
   ]
  },
  {
   "cell_type": "code",
   "execution_count": 13,
   "id": "e336868e-9681-4afb-bf57-f713f5885cbc",
   "metadata": {
    "tags": []
   },
   "outputs": [
    {
     "name": "stdout",
     "output_type": "stream",
     "text": [
      "Collecting pyathena\n",
      "  Using cached pyathena-2.23.0-py3-none-any.whl (67 kB)\n",
      "Requirement already satisfied: boto3>=1.26.4 in /opt/conda/lib/python3.7/site-packages (from pyathena) (1.26.105)\n",
      "Requirement already satisfied: tenacity>=4.1.0 in /opt/conda/lib/python3.7/site-packages (from pyathena) (8.2.2)\n",
      "Requirement already satisfied: fsspec in /opt/conda/lib/python3.7/site-packages (from pyathena) (2023.1.0)\n",
      "Requirement already satisfied: botocore>=1.29.4 in /opt/conda/lib/python3.7/site-packages (from pyathena) (1.29.105)\n",
      "Requirement already satisfied: jmespath<2.0.0,>=0.7.1 in /opt/conda/lib/python3.7/site-packages (from boto3>=1.26.4->pyathena) (1.0.1)\n",
      "Requirement already satisfied: s3transfer<0.7.0,>=0.6.0 in /opt/conda/lib/python3.7/site-packages (from boto3>=1.26.4->pyathena) (0.6.0)\n",
      "Requirement already satisfied: python-dateutil<3.0.0,>=2.1 in /opt/conda/lib/python3.7/site-packages (from botocore>=1.29.4->pyathena) (2.8.2)\n",
      "Requirement already satisfied: urllib3<1.27,>=1.25.4 in /opt/conda/lib/python3.7/site-packages (from botocore>=1.29.4->pyathena) (1.26.15)\n",
      "Requirement already satisfied: six>=1.5 in /opt/conda/lib/python3.7/site-packages (from python-dateutil<3.0.0,>=2.1->botocore>=1.29.4->pyathena) (1.14.0)\n",
      "Installing collected packages: pyathena\n",
      "Successfully installed pyathena-2.23.0\n",
      "\u001b[33mWARNING: Running pip as the 'root' user can result in broken permissions and conflicting behaviour with the system package manager. It is recommended to use a virtual environment instead: https://pip.pypa.io/warnings/venv\u001b[0m\u001b[33m\n",
      "\u001b[0m"
     ]
    }
   ],
   "source": [
    "!pip install pyathena\n",
    "from pyathena import connect\n",
    "import pandas as pd"
   ]
  },
  {
   "cell_type": "markdown",
   "id": "f63b99a2-5e97-415c-8fb2-12c5dcecd050",
   "metadata": {},
   "source": [
    "### Define database name"
   ]
  },
  {
   "cell_type": "code",
   "execution_count": 41,
   "id": "3652303e-8cad-4271-a973-ef44ea508bd7",
   "metadata": {
    "tags": []
   },
   "outputs": [],
   "source": [
    "dbname = \"Viewboost\""
   ]
  },
  {
   "cell_type": "markdown",
   "id": "a8d1d3fb-b3dc-4d77-bb6f-10b804564ae8",
   "metadata": {},
   "source": [
    "### Establish Athena's tempoary Working Directory"
   ]
  },
  {
   "cell_type": "code",
   "execution_count": 37,
   "id": "322b4710-fccd-446d-ad60-2b2fa59f2784",
   "metadata": {
    "tags": []
   },
   "outputs": [],
   "source": [
    "wd = datapath + \"athena/staging\""
   ]
  },
  {
   "cell_type": "markdown",
   "id": "f08a916a-0fd3-424c-889b-9f5093176d4f",
   "metadata": {},
   "source": [
    "### Connect to Athena"
   ]
  },
  {
   "cell_type": "code",
   "execution_count": 38,
   "id": "4657d416-ee21-4e18-879c-6492ebddcbf5",
   "metadata": {
    "tags": []
   },
   "outputs": [],
   "source": [
    "conn = connect(region_name=region, s3_staging_dir=wd)"
   ]
  },
  {
   "cell_type": "markdown",
   "id": "576d43ed-7aab-43cf-aa6d-8de5c5e39568",
   "metadata": {},
   "source": [
    "### Create SQL Statement for database creation"
   ]
  },
  {
   "cell_type": "code",
   "execution_count": 42,
   "id": "6d4ed9fe-e5ce-4bee-9349-93b3b090b2cf",
   "metadata": {
    "tags": []
   },
   "outputs": [],
   "source": [
    "sql = \"CREATE DATABASE IF NOT EXISTS {}\".format(dbname)"
   ]
  },
  {
   "cell_type": "markdown",
   "id": "32474304-f09a-4788-93f4-e2e5c63ec533",
   "metadata": {},
   "source": [
    "### Use pandas to run the statment"
   ]
  },
  {
   "cell_type": "code",
   "execution_count": 45,
   "id": "119507da-d1f9-427d-a1e3-31babe9a34cb",
   "metadata": {
    "tags": []
   },
   "outputs": [],
   "source": [
    "#pd.read_sql(sql, conn)"
   ]
  },
  {
   "cell_type": "markdown",
   "id": "635e154d-007d-40e9-bfb4-fedcbd484607",
   "metadata": {},
   "source": [
    "### Verify Database creation"
   ]
  },
  {
   "cell_type": "code",
   "execution_count": 47,
   "id": "26b08806-b7ab-4f54-b9c8-54a359814a1d",
   "metadata": {
    "tags": []
   },
   "outputs": [
    {
     "data": {
      "text/html": [
       "<div>\n",
       "<style scoped>\n",
       "    .dataframe tbody tr th:only-of-type {\n",
       "        vertical-align: middle;\n",
       "    }\n",
       "\n",
       "    .dataframe tbody tr th {\n",
       "        vertical-align: top;\n",
       "    }\n",
       "\n",
       "    .dataframe thead th {\n",
       "        text-align: right;\n",
       "    }\n",
       "</style>\n",
       "<table border=\"1\" class=\"dataframe\">\n",
       "  <thead>\n",
       "    <tr style=\"text-align: right;\">\n",
       "      <th></th>\n",
       "      <th>database_name</th>\n",
       "    </tr>\n",
       "  </thead>\n",
       "  <tbody>\n",
       "    <tr>\n",
       "      <th>0</th>\n",
       "      <td>default</td>\n",
       "    </tr>\n",
       "    <tr>\n",
       "      <th>1</th>\n",
       "      <td>dsoaws</td>\n",
       "    </tr>\n",
       "    <tr>\n",
       "      <th>2</th>\n",
       "      <td>youtubedb</td>\n",
       "    </tr>\n",
       "  </tbody>\n",
       "</table>\n",
       "</div>"
      ],
      "text/plain": [
       "  database_name\n",
       "0       default\n",
       "1        dsoaws\n",
       "2     youtubedb"
      ]
     },
     "execution_count": 47,
     "metadata": {},
     "output_type": "execute_result"
    }
   ],
   "source": [
    "sql2 = \"SHOW DATABASES\"\n",
    "pd.read_sql(sql2, conn)"
   ]
  },
  {
   "cell_type": "markdown",
   "id": "a0ab2052-89fb-44fb-9339-a04532de6d49",
   "metadata": {},
   "source": [
    "### Store the Database"
   ]
  },
  {
   "cell_type": "code",
   "execution_count": 46,
   "id": "a74c7f54-2628-4a7d-9081-7023eafe7892",
   "metadata": {
    "tags": []
   },
   "outputs": [
    {
     "name": "stderr",
     "output_type": "stream",
     "text": [
      "UsageError: Unknown variable 'Viewboost'\n"
     ]
    }
   ],
   "source": [
    "%store Viewboost"
   ]
  },
  {
   "cell_type": "code",
   "execution_count": null,
   "id": "5501274d-2ef5-418b-a07b-e5af0b62d1e9",
   "metadata": {},
   "outputs": [],
   "source": []
  }
 ],
 "metadata": {
  "availableInstances": [
   {
    "_defaultOrder": 0,
    "_isFastLaunch": true,
    "category": "General purpose",
    "gpuNum": 0,
    "hideHardwareSpecs": false,
    "memoryGiB": 4,
    "name": "ml.t3.medium",
    "vcpuNum": 2
   },
   {
    "_defaultOrder": 1,
    "_isFastLaunch": false,
    "category": "General purpose",
    "gpuNum": 0,
    "hideHardwareSpecs": false,
    "memoryGiB": 8,
    "name": "ml.t3.large",
    "vcpuNum": 2
   },
   {
    "_defaultOrder": 2,
    "_isFastLaunch": false,
    "category": "General purpose",
    "gpuNum": 0,
    "hideHardwareSpecs": false,
    "memoryGiB": 16,
    "name": "ml.t3.xlarge",
    "vcpuNum": 4
   },
   {
    "_defaultOrder": 3,
    "_isFastLaunch": false,
    "category": "General purpose",
    "gpuNum": 0,
    "hideHardwareSpecs": false,
    "memoryGiB": 32,
    "name": "ml.t3.2xlarge",
    "vcpuNum": 8
   },
   {
    "_defaultOrder": 4,
    "_isFastLaunch": true,
    "category": "General purpose",
    "gpuNum": 0,
    "hideHardwareSpecs": false,
    "memoryGiB": 8,
    "name": "ml.m5.large",
    "vcpuNum": 2
   },
   {
    "_defaultOrder": 5,
    "_isFastLaunch": false,
    "category": "General purpose",
    "gpuNum": 0,
    "hideHardwareSpecs": false,
    "memoryGiB": 16,
    "name": "ml.m5.xlarge",
    "vcpuNum": 4
   },
   {
    "_defaultOrder": 6,
    "_isFastLaunch": false,
    "category": "General purpose",
    "gpuNum": 0,
    "hideHardwareSpecs": false,
    "memoryGiB": 32,
    "name": "ml.m5.2xlarge",
    "vcpuNum": 8
   },
   {
    "_defaultOrder": 7,
    "_isFastLaunch": false,
    "category": "General purpose",
    "gpuNum": 0,
    "hideHardwareSpecs": false,
    "memoryGiB": 64,
    "name": "ml.m5.4xlarge",
    "vcpuNum": 16
   },
   {
    "_defaultOrder": 8,
    "_isFastLaunch": false,
    "category": "General purpose",
    "gpuNum": 0,
    "hideHardwareSpecs": false,
    "memoryGiB": 128,
    "name": "ml.m5.8xlarge",
    "vcpuNum": 32
   },
   {
    "_defaultOrder": 9,
    "_isFastLaunch": false,
    "category": "General purpose",
    "gpuNum": 0,
    "hideHardwareSpecs": false,
    "memoryGiB": 192,
    "name": "ml.m5.12xlarge",
    "vcpuNum": 48
   },
   {
    "_defaultOrder": 10,
    "_isFastLaunch": false,
    "category": "General purpose",
    "gpuNum": 0,
    "hideHardwareSpecs": false,
    "memoryGiB": 256,
    "name": "ml.m5.16xlarge",
    "vcpuNum": 64
   },
   {
    "_defaultOrder": 11,
    "_isFastLaunch": false,
    "category": "General purpose",
    "gpuNum": 0,
    "hideHardwareSpecs": false,
    "memoryGiB": 384,
    "name": "ml.m5.24xlarge",
    "vcpuNum": 96
   },
   {
    "_defaultOrder": 12,
    "_isFastLaunch": false,
    "category": "General purpose",
    "gpuNum": 0,
    "hideHardwareSpecs": false,
    "memoryGiB": 8,
    "name": "ml.m5d.large",
    "vcpuNum": 2
   },
   {
    "_defaultOrder": 13,
    "_isFastLaunch": false,
    "category": "General purpose",
    "gpuNum": 0,
    "hideHardwareSpecs": false,
    "memoryGiB": 16,
    "name": "ml.m5d.xlarge",
    "vcpuNum": 4
   },
   {
    "_defaultOrder": 14,
    "_isFastLaunch": false,
    "category": "General purpose",
    "gpuNum": 0,
    "hideHardwareSpecs": false,
    "memoryGiB": 32,
    "name": "ml.m5d.2xlarge",
    "vcpuNum": 8
   },
   {
    "_defaultOrder": 15,
    "_isFastLaunch": false,
    "category": "General purpose",
    "gpuNum": 0,
    "hideHardwareSpecs": false,
    "memoryGiB": 64,
    "name": "ml.m5d.4xlarge",
    "vcpuNum": 16
   },
   {
    "_defaultOrder": 16,
    "_isFastLaunch": false,
    "category": "General purpose",
    "gpuNum": 0,
    "hideHardwareSpecs": false,
    "memoryGiB": 128,
    "name": "ml.m5d.8xlarge",
    "vcpuNum": 32
   },
   {
    "_defaultOrder": 17,
    "_isFastLaunch": false,
    "category": "General purpose",
    "gpuNum": 0,
    "hideHardwareSpecs": false,
    "memoryGiB": 192,
    "name": "ml.m5d.12xlarge",
    "vcpuNum": 48
   },
   {
    "_defaultOrder": 18,
    "_isFastLaunch": false,
    "category": "General purpose",
    "gpuNum": 0,
    "hideHardwareSpecs": false,
    "memoryGiB": 256,
    "name": "ml.m5d.16xlarge",
    "vcpuNum": 64
   },
   {
    "_defaultOrder": 19,
    "_isFastLaunch": false,
    "category": "General purpose",
    "gpuNum": 0,
    "hideHardwareSpecs": false,
    "memoryGiB": 384,
    "name": "ml.m5d.24xlarge",
    "vcpuNum": 96
   },
   {
    "_defaultOrder": 20,
    "_isFastLaunch": false,
    "category": "General purpose",
    "gpuNum": 0,
    "hideHardwareSpecs": true,
    "memoryGiB": 0,
    "name": "ml.geospatial.interactive",
    "supportedImageNames": [
     "sagemaker-geospatial-v1-0"
    ],
    "vcpuNum": 0
   },
   {
    "_defaultOrder": 21,
    "_isFastLaunch": true,
    "category": "Compute optimized",
    "gpuNum": 0,
    "hideHardwareSpecs": false,
    "memoryGiB": 4,
    "name": "ml.c5.large",
    "vcpuNum": 2
   },
   {
    "_defaultOrder": 22,
    "_isFastLaunch": false,
    "category": "Compute optimized",
    "gpuNum": 0,
    "hideHardwareSpecs": false,
    "memoryGiB": 8,
    "name": "ml.c5.xlarge",
    "vcpuNum": 4
   },
   {
    "_defaultOrder": 23,
    "_isFastLaunch": false,
    "category": "Compute optimized",
    "gpuNum": 0,
    "hideHardwareSpecs": false,
    "memoryGiB": 16,
    "name": "ml.c5.2xlarge",
    "vcpuNum": 8
   },
   {
    "_defaultOrder": 24,
    "_isFastLaunch": false,
    "category": "Compute optimized",
    "gpuNum": 0,
    "hideHardwareSpecs": false,
    "memoryGiB": 32,
    "name": "ml.c5.4xlarge",
    "vcpuNum": 16
   },
   {
    "_defaultOrder": 25,
    "_isFastLaunch": false,
    "category": "Compute optimized",
    "gpuNum": 0,
    "hideHardwareSpecs": false,
    "memoryGiB": 72,
    "name": "ml.c5.9xlarge",
    "vcpuNum": 36
   },
   {
    "_defaultOrder": 26,
    "_isFastLaunch": false,
    "category": "Compute optimized",
    "gpuNum": 0,
    "hideHardwareSpecs": false,
    "memoryGiB": 96,
    "name": "ml.c5.12xlarge",
    "vcpuNum": 48
   },
   {
    "_defaultOrder": 27,
    "_isFastLaunch": false,
    "category": "Compute optimized",
    "gpuNum": 0,
    "hideHardwareSpecs": false,
    "memoryGiB": 144,
    "name": "ml.c5.18xlarge",
    "vcpuNum": 72
   },
   {
    "_defaultOrder": 28,
    "_isFastLaunch": false,
    "category": "Compute optimized",
    "gpuNum": 0,
    "hideHardwareSpecs": false,
    "memoryGiB": 192,
    "name": "ml.c5.24xlarge",
    "vcpuNum": 96
   },
   {
    "_defaultOrder": 29,
    "_isFastLaunch": true,
    "category": "Accelerated computing",
    "gpuNum": 1,
    "hideHardwareSpecs": false,
    "memoryGiB": 16,
    "name": "ml.g4dn.xlarge",
    "vcpuNum": 4
   },
   {
    "_defaultOrder": 30,
    "_isFastLaunch": false,
    "category": "Accelerated computing",
    "gpuNum": 1,
    "hideHardwareSpecs": false,
    "memoryGiB": 32,
    "name": "ml.g4dn.2xlarge",
    "vcpuNum": 8
   },
   {
    "_defaultOrder": 31,
    "_isFastLaunch": false,
    "category": "Accelerated computing",
    "gpuNum": 1,
    "hideHardwareSpecs": false,
    "memoryGiB": 64,
    "name": "ml.g4dn.4xlarge",
    "vcpuNum": 16
   },
   {
    "_defaultOrder": 32,
    "_isFastLaunch": false,
    "category": "Accelerated computing",
    "gpuNum": 1,
    "hideHardwareSpecs": false,
    "memoryGiB": 128,
    "name": "ml.g4dn.8xlarge",
    "vcpuNum": 32
   },
   {
    "_defaultOrder": 33,
    "_isFastLaunch": false,
    "category": "Accelerated computing",
    "gpuNum": 4,
    "hideHardwareSpecs": false,
    "memoryGiB": 192,
    "name": "ml.g4dn.12xlarge",
    "vcpuNum": 48
   },
   {
    "_defaultOrder": 34,
    "_isFastLaunch": false,
    "category": "Accelerated computing",
    "gpuNum": 1,
    "hideHardwareSpecs": false,
    "memoryGiB": 256,
    "name": "ml.g4dn.16xlarge",
    "vcpuNum": 64
   },
   {
    "_defaultOrder": 35,
    "_isFastLaunch": false,
    "category": "Accelerated computing",
    "gpuNum": 1,
    "hideHardwareSpecs": false,
    "memoryGiB": 61,
    "name": "ml.p3.2xlarge",
    "vcpuNum": 8
   },
   {
    "_defaultOrder": 36,
    "_isFastLaunch": false,
    "category": "Accelerated computing",
    "gpuNum": 4,
    "hideHardwareSpecs": false,
    "memoryGiB": 244,
    "name": "ml.p3.8xlarge",
    "vcpuNum": 32
   },
   {
    "_defaultOrder": 37,
    "_isFastLaunch": false,
    "category": "Accelerated computing",
    "gpuNum": 8,
    "hideHardwareSpecs": false,
    "memoryGiB": 488,
    "name": "ml.p3.16xlarge",
    "vcpuNum": 64
   },
   {
    "_defaultOrder": 38,
    "_isFastLaunch": false,
    "category": "Accelerated computing",
    "gpuNum": 8,
    "hideHardwareSpecs": false,
    "memoryGiB": 768,
    "name": "ml.p3dn.24xlarge",
    "vcpuNum": 96
   },
   {
    "_defaultOrder": 39,
    "_isFastLaunch": false,
    "category": "Memory Optimized",
    "gpuNum": 0,
    "hideHardwareSpecs": false,
    "memoryGiB": 16,
    "name": "ml.r5.large",
    "vcpuNum": 2
   },
   {
    "_defaultOrder": 40,
    "_isFastLaunch": false,
    "category": "Memory Optimized",
    "gpuNum": 0,
    "hideHardwareSpecs": false,
    "memoryGiB": 32,
    "name": "ml.r5.xlarge",
    "vcpuNum": 4
   },
   {
    "_defaultOrder": 41,
    "_isFastLaunch": false,
    "category": "Memory Optimized",
    "gpuNum": 0,
    "hideHardwareSpecs": false,
    "memoryGiB": 64,
    "name": "ml.r5.2xlarge",
    "vcpuNum": 8
   },
   {
    "_defaultOrder": 42,
    "_isFastLaunch": false,
    "category": "Memory Optimized",
    "gpuNum": 0,
    "hideHardwareSpecs": false,
    "memoryGiB": 128,
    "name": "ml.r5.4xlarge",
    "vcpuNum": 16
   },
   {
    "_defaultOrder": 43,
    "_isFastLaunch": false,
    "category": "Memory Optimized",
    "gpuNum": 0,
    "hideHardwareSpecs": false,
    "memoryGiB": 256,
    "name": "ml.r5.8xlarge",
    "vcpuNum": 32
   },
   {
    "_defaultOrder": 44,
    "_isFastLaunch": false,
    "category": "Memory Optimized",
    "gpuNum": 0,
    "hideHardwareSpecs": false,
    "memoryGiB": 384,
    "name": "ml.r5.12xlarge",
    "vcpuNum": 48
   },
   {
    "_defaultOrder": 45,
    "_isFastLaunch": false,
    "category": "Memory Optimized",
    "gpuNum": 0,
    "hideHardwareSpecs": false,
    "memoryGiB": 512,
    "name": "ml.r5.16xlarge",
    "vcpuNum": 64
   },
   {
    "_defaultOrder": 46,
    "_isFastLaunch": false,
    "category": "Memory Optimized",
    "gpuNum": 0,
    "hideHardwareSpecs": false,
    "memoryGiB": 768,
    "name": "ml.r5.24xlarge",
    "vcpuNum": 96
   },
   {
    "_defaultOrder": 47,
    "_isFastLaunch": false,
    "category": "Accelerated computing",
    "gpuNum": 1,
    "hideHardwareSpecs": false,
    "memoryGiB": 16,
    "name": "ml.g5.xlarge",
    "vcpuNum": 4
   },
   {
    "_defaultOrder": 48,
    "_isFastLaunch": false,
    "category": "Accelerated computing",
    "gpuNum": 1,
    "hideHardwareSpecs": false,
    "memoryGiB": 32,
    "name": "ml.g5.2xlarge",
    "vcpuNum": 8
   },
   {
    "_defaultOrder": 49,
    "_isFastLaunch": false,
    "category": "Accelerated computing",
    "gpuNum": 1,
    "hideHardwareSpecs": false,
    "memoryGiB": 64,
    "name": "ml.g5.4xlarge",
    "vcpuNum": 16
   },
   {
    "_defaultOrder": 50,
    "_isFastLaunch": false,
    "category": "Accelerated computing",
    "gpuNum": 1,
    "hideHardwareSpecs": false,
    "memoryGiB": 128,
    "name": "ml.g5.8xlarge",
    "vcpuNum": 32
   },
   {
    "_defaultOrder": 51,
    "_isFastLaunch": false,
    "category": "Accelerated computing",
    "gpuNum": 1,
    "hideHardwareSpecs": false,
    "memoryGiB": 256,
    "name": "ml.g5.16xlarge",
    "vcpuNum": 64
   },
   {
    "_defaultOrder": 52,
    "_isFastLaunch": false,
    "category": "Accelerated computing",
    "gpuNum": 4,
    "hideHardwareSpecs": false,
    "memoryGiB": 192,
    "name": "ml.g5.12xlarge",
    "vcpuNum": 48
   },
   {
    "_defaultOrder": 53,
    "_isFastLaunch": false,
    "category": "Accelerated computing",
    "gpuNum": 4,
    "hideHardwareSpecs": false,
    "memoryGiB": 384,
    "name": "ml.g5.24xlarge",
    "vcpuNum": 96
   },
   {
    "_defaultOrder": 54,
    "_isFastLaunch": false,
    "category": "Accelerated computing",
    "gpuNum": 8,
    "hideHardwareSpecs": false,
    "memoryGiB": 768,
    "name": "ml.g5.48xlarge",
    "vcpuNum": 192
   }
  ],
  "instance_type": "ml.t3.medium",
  "kernelspec": {
   "display_name": "Python 3 (Data Science)",
   "language": "python",
   "name": "python3__SAGEMAKER_INTERNAL__arn:aws:sagemaker:us-east-1:081325390199:image/datascience-1.0"
  },
  "language_info": {
   "codemirror_mode": {
    "name": "ipython",
    "version": 3
   },
   "file_extension": ".py",
   "mimetype": "text/x-python",
   "name": "python",
   "nbconvert_exporter": "python",
   "pygments_lexer": "ipython3",
   "version": "3.7.10"
  }
 },
 "nbformat": 4,
 "nbformat_minor": 5
}
